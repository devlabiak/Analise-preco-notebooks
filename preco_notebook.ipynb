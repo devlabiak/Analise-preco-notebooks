{
 "cells": [
  {
   "cell_type": "code",
   "execution_count": 1,
   "id": "9e833f40",
   "metadata": {},
   "outputs": [],
   "source": [
    "import pandas as pd\n",
    "import warnings\n",
    "import numpy as np\n",
    "import matplotlib.pyplot as plt\n",
    "%matplotlib inline\n",
    "warnings.filterwarnings(\"ignore\")"
   ]
  },
  {
   "cell_type": "code",
   "execution_count": 2,
   "id": "aa6faae7",
   "metadata": {},
   "outputs": [],
   "source": [
    "df = pd.read_csv(\"preco_notebooks.csv\") "
   ]
  },
  {
   "cell_type": "markdown",
   "id": "0dd7bc49",
   "metadata": {},
   "source": [
    "### Explorando os dados"
   ]
  },
  {
   "cell_type": "code",
   "execution_count": 3,
   "id": "d7c80919",
   "metadata": {},
   "outputs": [
    {
     "name": "stdout",
     "output_type": "stream",
     "text": [
      "<class 'pandas.core.frame.DataFrame'>\n",
      "RangeIndex: 896 entries, 0 to 895\n",
      "Data columns (total 23 columns):\n",
      " #   Column               Non-Null Count  Dtype  \n",
      "---  ------               --------------  -----  \n",
      " 0   marca                896 non-null    object \n",
      " 1   modelo               896 non-null    object \n",
      " 2   marca_processador    896 non-null    object \n",
      " 3   nome_processador     896 non-null    object \n",
      " 4   geracao_processador  896 non-null    object \n",
      " 5   memoria              896 non-null    object \n",
      " 6   tipo_memoria         896 non-null    object \n",
      " 7   ssd                  896 non-null    object \n",
      " 8   hdd                  896 non-null    object \n",
      " 9   sistema_operacional  896 non-null    object \n",
      " 10  versao_so            896 non-null    object \n",
      " 11  placa_de_video       896 non-null    int64  \n",
      " 12  peso                 896 non-null    object \n",
      " 13  polegadas            896 non-null    object \n",
      " 14  garantia             896 non-null    int64  \n",
      " 15  Touchscreen          896 non-null    object \n",
      " 16  msoffice             896 non-null    object \n",
      " 17  preco_atual          896 non-null    int64  \n",
      " 18  preco_anterior       896 non-null    int64  \n",
      " 19  desconto             896 non-null    int64  \n",
      " 20  notas_em_estrelas    896 non-null    float64\n",
      " 21  qtd_avaliacoes       896 non-null    int64  \n",
      " 22  avaliacoes_unicas    896 non-null    int64  \n",
      "dtypes: float64(1), int64(7), object(15)\n",
      "memory usage: 161.1+ KB\n"
     ]
    }
   ],
   "source": [
    "df.info()"
   ]
  },
  {
   "cell_type": "code",
   "execution_count": 4,
   "id": "2e3516e2",
   "metadata": {},
   "outputs": [
    {
     "data": {
      "text/html": [
       "<div>\n",
       "<style scoped>\n",
       "    .dataframe tbody tr th:only-of-type {\n",
       "        vertical-align: middle;\n",
       "    }\n",
       "\n",
       "    .dataframe tbody tr th {\n",
       "        vertical-align: top;\n",
       "    }\n",
       "\n",
       "    .dataframe thead th {\n",
       "        text-align: right;\n",
       "    }\n",
       "</style>\n",
       "<table border=\"1\" class=\"dataframe\">\n",
       "  <thead>\n",
       "    <tr style=\"text-align: right;\">\n",
       "      <th></th>\n",
       "      <th>marca</th>\n",
       "      <th>modelo</th>\n",
       "      <th>marca_processador</th>\n",
       "      <th>nome_processador</th>\n",
       "      <th>geracao_processador</th>\n",
       "      <th>memoria</th>\n",
       "      <th>tipo_memoria</th>\n",
       "      <th>ssd</th>\n",
       "      <th>hdd</th>\n",
       "      <th>sistema_operacional</th>\n",
       "      <th>...</th>\n",
       "      <th>polegadas</th>\n",
       "      <th>garantia</th>\n",
       "      <th>Touchscreen</th>\n",
       "      <th>msoffice</th>\n",
       "      <th>preco_atual</th>\n",
       "      <th>preco_anterior</th>\n",
       "      <th>desconto</th>\n",
       "      <th>notas_em_estrelas</th>\n",
       "      <th>qtd_avaliacoes</th>\n",
       "      <th>avaliacoes_unicas</th>\n",
       "    </tr>\n",
       "  </thead>\n",
       "  <tbody>\n",
       "    <tr>\n",
       "      <th>0</th>\n",
       "      <td>Lenovo</td>\n",
       "      <td>A6-9225</td>\n",
       "      <td>AMD</td>\n",
       "      <td>A6-9225 Processor</td>\n",
       "      <td>10th</td>\n",
       "      <td>4 GB GB</td>\n",
       "      <td>DDR4</td>\n",
       "      <td>0 GB</td>\n",
       "      <td>1024 GB</td>\n",
       "      <td>Windows</td>\n",
       "      <td>...</td>\n",
       "      <td>Missing</td>\n",
       "      <td>0</td>\n",
       "      <td>No</td>\n",
       "      <td>No</td>\n",
       "      <td>24990</td>\n",
       "      <td>32790</td>\n",
       "      <td>23</td>\n",
       "      <td>3.7</td>\n",
       "      <td>63</td>\n",
       "      <td>12</td>\n",
       "    </tr>\n",
       "    <tr>\n",
       "      <th>1</th>\n",
       "      <td>Lenovo</td>\n",
       "      <td>Ideapad</td>\n",
       "      <td>AMD</td>\n",
       "      <td>APU Dual</td>\n",
       "      <td>10th</td>\n",
       "      <td>4 GB GB</td>\n",
       "      <td>DDR4</td>\n",
       "      <td>0 GB</td>\n",
       "      <td>512 GB</td>\n",
       "      <td>Windows</td>\n",
       "      <td>...</td>\n",
       "      <td>Missing</td>\n",
       "      <td>0</td>\n",
       "      <td>No</td>\n",
       "      <td>No</td>\n",
       "      <td>19590</td>\n",
       "      <td>21325</td>\n",
       "      <td>8</td>\n",
       "      <td>3.6</td>\n",
       "      <td>1894</td>\n",
       "      <td>256</td>\n",
       "    </tr>\n",
       "    <tr>\n",
       "      <th>2</th>\n",
       "      <td>Avita</td>\n",
       "      <td>PURA</td>\n",
       "      <td>AMD</td>\n",
       "      <td>APU Dual</td>\n",
       "      <td>10th</td>\n",
       "      <td>4 GB GB</td>\n",
       "      <td>DDR4</td>\n",
       "      <td>128 GB</td>\n",
       "      <td>0 GB</td>\n",
       "      <td>Windows</td>\n",
       "      <td>...</td>\n",
       "      <td>Missing</td>\n",
       "      <td>0</td>\n",
       "      <td>No</td>\n",
       "      <td>No</td>\n",
       "      <td>19990</td>\n",
       "      <td>27990</td>\n",
       "      <td>28</td>\n",
       "      <td>3.7</td>\n",
       "      <td>1153</td>\n",
       "      <td>159</td>\n",
       "    </tr>\n",
       "    <tr>\n",
       "      <th>3</th>\n",
       "      <td>Avita</td>\n",
       "      <td>PURA</td>\n",
       "      <td>AMD</td>\n",
       "      <td>APU Dual</td>\n",
       "      <td>10th</td>\n",
       "      <td>4 GB GB</td>\n",
       "      <td>DDR4</td>\n",
       "      <td>128 GB</td>\n",
       "      <td>0 GB</td>\n",
       "      <td>Windows</td>\n",
       "      <td>...</td>\n",
       "      <td>Missing</td>\n",
       "      <td>0</td>\n",
       "      <td>No</td>\n",
       "      <td>No</td>\n",
       "      <td>21490</td>\n",
       "      <td>27990</td>\n",
       "      <td>23</td>\n",
       "      <td>3.7</td>\n",
       "      <td>1153</td>\n",
       "      <td>159</td>\n",
       "    </tr>\n",
       "    <tr>\n",
       "      <th>4</th>\n",
       "      <td>Avita</td>\n",
       "      <td>PURA</td>\n",
       "      <td>AMD</td>\n",
       "      <td>APU Dual</td>\n",
       "      <td>10th</td>\n",
       "      <td>4 GB GB</td>\n",
       "      <td>DDR4</td>\n",
       "      <td>256 GB</td>\n",
       "      <td>0 GB</td>\n",
       "      <td>Windows</td>\n",
       "      <td>...</td>\n",
       "      <td>Missing</td>\n",
       "      <td>0</td>\n",
       "      <td>No</td>\n",
       "      <td>No</td>\n",
       "      <td>24990</td>\n",
       "      <td>33490</td>\n",
       "      <td>25</td>\n",
       "      <td>3.7</td>\n",
       "      <td>1657</td>\n",
       "      <td>234</td>\n",
       "    </tr>\n",
       "  </tbody>\n",
       "</table>\n",
       "<p>5 rows × 23 columns</p>\n",
       "</div>"
      ],
      "text/plain": [
       "    marca   modelo marca_processador   nome_processador geracao_processador  \\\n",
       "0  Lenovo  A6-9225               AMD  A6-9225 Processor                10th   \n",
       "1  Lenovo  Ideapad               AMD           APU Dual                10th   \n",
       "2   Avita     PURA               AMD           APU Dual                10th   \n",
       "3   Avita     PURA               AMD           APU Dual                10th   \n",
       "4   Avita     PURA               AMD           APU Dual                10th   \n",
       "\n",
       "   memoria tipo_memoria     ssd      hdd sistema_operacional  ... polegadas  \\\n",
       "0  4 GB GB         DDR4    0 GB  1024 GB             Windows  ...   Missing   \n",
       "1  4 GB GB         DDR4    0 GB   512 GB             Windows  ...   Missing   \n",
       "2  4 GB GB         DDR4  128 GB     0 GB             Windows  ...   Missing   \n",
       "3  4 GB GB         DDR4  128 GB     0 GB             Windows  ...   Missing   \n",
       "4  4 GB GB         DDR4  256 GB     0 GB             Windows  ...   Missing   \n",
       "\n",
       "   garantia Touchscreen msoffice  preco_atual preco_anterior desconto  \\\n",
       "0         0          No       No        24990          32790       23   \n",
       "1         0          No       No        19590          21325        8   \n",
       "2         0          No       No        19990          27990       28   \n",
       "3         0          No       No        21490          27990       23   \n",
       "4         0          No       No        24990          33490       25   \n",
       "\n",
       "   notas_em_estrelas  qtd_avaliacoes  avaliacoes_unicas  \n",
       "0                3.7              63                 12  \n",
       "1                3.6            1894                256  \n",
       "2                3.7            1153                159  \n",
       "3                3.7            1153                159  \n",
       "4                3.7            1657                234  \n",
       "\n",
       "[5 rows x 23 columns]"
      ]
     },
     "execution_count": 4,
     "metadata": {},
     "output_type": "execute_result"
    }
   ],
   "source": [
    "df.head()"
   ]
  },
  {
   "cell_type": "code",
   "execution_count": 5,
   "id": "9f8b89f5",
   "metadata": {
    "scrolled": true
   },
   "outputs": [
    {
     "data": {
      "text/plain": [
       "marca                  False\n",
       "modelo                 False\n",
       "marca_processador      False\n",
       "nome_processador       False\n",
       "geracao_processador    False\n",
       "memoria                False\n",
       "tipo_memoria           False\n",
       "ssd                    False\n",
       "hdd                    False\n",
       "sistema_operacional    False\n",
       "versao_so              False\n",
       "placa_de_video         False\n",
       "peso                   False\n",
       "polegadas              False\n",
       "garantia               False\n",
       "Touchscreen            False\n",
       "msoffice               False\n",
       "preco_atual            False\n",
       "preco_anterior         False\n",
       "desconto               False\n",
       "notas_em_estrelas      False\n",
       "qtd_avaliacoes         False\n",
       "avaliacoes_unicas      False\n",
       "dtype: bool"
      ]
     },
     "execution_count": 5,
     "metadata": {},
     "output_type": "execute_result"
    }
   ],
   "source": [
    "#Verificando valores nulos\n",
    "df.isna().any()"
   ]
  },
  {
   "cell_type": "code",
   "execution_count": 6,
   "id": "e30e1311",
   "metadata": {
    "scrolled": true
   },
   "outputs": [
    {
     "data": {
      "text/plain": [
       "marca                   object\n",
       "modelo                  object\n",
       "marca_processador       object\n",
       "nome_processador        object\n",
       "geracao_processador     object\n",
       "memoria                 object\n",
       "tipo_memoria            object\n",
       "ssd                     object\n",
       "hdd                     object\n",
       "sistema_operacional     object\n",
       "versao_so               object\n",
       "placa_de_video           int64\n",
       "peso                    object\n",
       "polegadas               object\n",
       "garantia                 int64\n",
       "Touchscreen             object\n",
       "msoffice                object\n",
       "preco_atual              int64\n",
       "preco_anterior           int64\n",
       "desconto                 int64\n",
       "notas_em_estrelas      float64\n",
       "qtd_avaliacoes           int64\n",
       "avaliacoes_unicas        int64\n",
       "dtype: object"
      ]
     },
     "execution_count": 6,
     "metadata": {},
     "output_type": "execute_result"
    }
   ],
   "source": [
    "# Verificando os tipos de variáveis \n",
    "df.dtypes"
   ]
  },
  {
   "cell_type": "code",
   "execution_count": 7,
   "id": "3b01a87c",
   "metadata": {},
   "outputs": [],
   "source": [
    "# Convertendo coluna placa de video para texto \n",
    "df['placa_de_video'] = df.placa_de_video.astype(object)"
   ]
  },
  {
   "cell_type": "code",
   "execution_count": 8,
   "id": "488b82ef",
   "metadata": {},
   "outputs": [
    {
     "data": {
      "text/plain": [
       "dtype('O')"
      ]
     },
     "execution_count": 8,
     "metadata": {},
     "output_type": "execute_result"
    }
   ],
   "source": [
    "# Verificando se a variável foi convertida \n",
    "df.dtypes.placa_de_video"
   ]
  },
  {
   "cell_type": "code",
   "execution_count": 9,
   "id": "1a7a866e",
   "metadata": {},
   "outputs": [],
   "source": [
    "# Criando colunas com a converção para R$ (Real) cotação 0,063 na data 16/02/2023\n",
    "df['preco_atual_real'] = df['preco_atual']*0.063\n",
    "df['preco_anterior_real'] = df['preco_anterior']*0.063"
   ]
  },
  {
   "cell_type": "code",
   "execution_count": 10,
   "id": "3e3fdc36",
   "metadata": {
    "scrolled": true
   },
   "outputs": [
    {
     "data": {
      "text/html": [
       "<div>\n",
       "<style scoped>\n",
       "    .dataframe tbody tr th:only-of-type {\n",
       "        vertical-align: middle;\n",
       "    }\n",
       "\n",
       "    .dataframe tbody tr th {\n",
       "        vertical-align: top;\n",
       "    }\n",
       "\n",
       "    .dataframe thead th {\n",
       "        text-align: right;\n",
       "    }\n",
       "</style>\n",
       "<table border=\"1\" class=\"dataframe\">\n",
       "  <thead>\n",
       "    <tr style=\"text-align: right;\">\n",
       "      <th></th>\n",
       "      <th>marca</th>\n",
       "      <th>modelo</th>\n",
       "      <th>marca_processador</th>\n",
       "      <th>nome_processador</th>\n",
       "      <th>geracao_processador</th>\n",
       "      <th>memoria</th>\n",
       "      <th>tipo_memoria</th>\n",
       "      <th>ssd</th>\n",
       "      <th>hdd</th>\n",
       "      <th>sistema_operacional</th>\n",
       "      <th>...</th>\n",
       "      <th>Touchscreen</th>\n",
       "      <th>msoffice</th>\n",
       "      <th>preco_atual</th>\n",
       "      <th>preco_anterior</th>\n",
       "      <th>desconto</th>\n",
       "      <th>notas_em_estrelas</th>\n",
       "      <th>qtd_avaliacoes</th>\n",
       "      <th>avaliacoes_unicas</th>\n",
       "      <th>preco_atual_real</th>\n",
       "      <th>preco_anterior_real</th>\n",
       "    </tr>\n",
       "  </thead>\n",
       "  <tbody>\n",
       "    <tr>\n",
       "      <th>0</th>\n",
       "      <td>Lenovo</td>\n",
       "      <td>A6-9225</td>\n",
       "      <td>AMD</td>\n",
       "      <td>A6-9225 Processor</td>\n",
       "      <td>10th</td>\n",
       "      <td>4 GB GB</td>\n",
       "      <td>DDR4</td>\n",
       "      <td>0 GB</td>\n",
       "      <td>1024 GB</td>\n",
       "      <td>Windows</td>\n",
       "      <td>...</td>\n",
       "      <td>No</td>\n",
       "      <td>No</td>\n",
       "      <td>24990</td>\n",
       "      <td>32790</td>\n",
       "      <td>23</td>\n",
       "      <td>3.7</td>\n",
       "      <td>63</td>\n",
       "      <td>12</td>\n",
       "      <td>1574.37</td>\n",
       "      <td>2065.770</td>\n",
       "    </tr>\n",
       "    <tr>\n",
       "      <th>1</th>\n",
       "      <td>Lenovo</td>\n",
       "      <td>Ideapad</td>\n",
       "      <td>AMD</td>\n",
       "      <td>APU Dual</td>\n",
       "      <td>10th</td>\n",
       "      <td>4 GB GB</td>\n",
       "      <td>DDR4</td>\n",
       "      <td>0 GB</td>\n",
       "      <td>512 GB</td>\n",
       "      <td>Windows</td>\n",
       "      <td>...</td>\n",
       "      <td>No</td>\n",
       "      <td>No</td>\n",
       "      <td>19590</td>\n",
       "      <td>21325</td>\n",
       "      <td>8</td>\n",
       "      <td>3.6</td>\n",
       "      <td>1894</td>\n",
       "      <td>256</td>\n",
       "      <td>1234.17</td>\n",
       "      <td>1343.475</td>\n",
       "    </tr>\n",
       "  </tbody>\n",
       "</table>\n",
       "<p>2 rows × 25 columns</p>\n",
       "</div>"
      ],
      "text/plain": [
       "    marca   modelo marca_processador   nome_processador geracao_processador  \\\n",
       "0  Lenovo  A6-9225               AMD  A6-9225 Processor                10th   \n",
       "1  Lenovo  Ideapad               AMD           APU Dual                10th   \n",
       "\n",
       "   memoria tipo_memoria   ssd      hdd sistema_operacional  ... Touchscreen  \\\n",
       "0  4 GB GB         DDR4  0 GB  1024 GB             Windows  ...          No   \n",
       "1  4 GB GB         DDR4  0 GB   512 GB             Windows  ...          No   \n",
       "\n",
       "  msoffice preco_atual preco_anterior  desconto notas_em_estrelas  \\\n",
       "0       No       24990          32790        23               3.7   \n",
       "1       No       19590          21325         8               3.6   \n",
       "\n",
       "  qtd_avaliacoes  avaliacoes_unicas  preco_atual_real  preco_anterior_real  \n",
       "0             63                 12           1574.37             2065.770  \n",
       "1           1894                256           1234.17             1343.475  \n",
       "\n",
       "[2 rows x 25 columns]"
      ]
     },
     "execution_count": 10,
     "metadata": {},
     "output_type": "execute_result"
    }
   ],
   "source": [
    "df.head(2)"
   ]
  },
  {
   "cell_type": "code",
   "execution_count": 11,
   "id": "dfa58c81",
   "metadata": {},
   "outputs": [],
   "source": [
    "#Foi encontrado divergencia em categorias de memorias \n",
    "#Trazendo modelo de meorias para formato padrao \n",
    "df[\"tipo_memoria\"]= df[\"tipo_memoria\"].replace('LPDDR4X', \"DDR4\")\n",
    "df[\"tipo_memoria\"]= df[\"tipo_memoria\"].replace('LPDDR4', \"DDR4\")\n",
    "df[\"tipo_memoria\"]= df[\"tipo_memoria\"].replace('LPDDR3', \"DDR3\")\n",
    "\n",
    "df[\"memoria\"]= df[\"memoria\"].replace('4 GB GB', \"4GB\")\n",
    "df[\"memoria\"]= df[\"memoria\"].replace('8 GB GB', \"8GB\")\n",
    "df[\"memoria\"]= df[\"memoria\"].replace('16 GB GB', \"16GB\")\n",
    "df[\"memoria\"]= df[\"memoria\"].replace('32 GB GB', \"32GB\")"
   ]
  },
  {
   "cell_type": "code",
   "execution_count": 12,
   "id": "9604f97c",
   "metadata": {},
   "outputs": [],
   "source": [
    "# Encontrado uma divergencia na marca de notebook\n",
    "\n",
    "df[\"marca\"]= df[\"marca\"].replace('lenovo', \"Lenovo\")"
   ]
  },
  {
   "cell_type": "code",
   "execution_count": 13,
   "id": "e94ce2b2",
   "metadata": {
    "scrolled": true
   },
   "outputs": [
    {
     "data": {
      "text/plain": [
       "DDR4    862\n",
       "DDR3     26\n",
       "DDR5      8\n",
       "Name: tipo_memoria, dtype: int64"
      ]
     },
     "execution_count": 13,
     "metadata": {},
     "output_type": "execute_result"
    }
   ],
   "source": [
    "# Verificando se a correção nos campos de memoria foi aplicada\n",
    "df['tipo_memoria'].value_counts()"
   ]
  },
  {
   "cell_type": "code",
   "execution_count": 14,
   "id": "a34bf8ef",
   "metadata": {},
   "outputs": [
    {
     "data": {
      "text/plain": [
       "8GB     454\n",
       "4GB     259\n",
       "16GB    180\n",
       "32GB      3\n",
       "Name: memoria, dtype: int64"
      ]
     },
     "execution_count": 14,
     "metadata": {},
     "output_type": "execute_result"
    }
   ],
   "source": [
    "# Verificando se a correção nos campos de memoria foi aplicada\n",
    "df['memoria'].value_counts()"
   ]
  },
  {
   "cell_type": "code",
   "execution_count": 15,
   "id": "f741ce9c",
   "metadata": {},
   "outputs": [],
   "source": [
    "# Foi identificado alguns dados poluidos então optei por remover processadores em pequena \n",
    "# quantidade e com nomes divergentes  "
   ]
  },
  {
   "cell_type": "code",
   "execution_count": 16,
   "id": "018a2552",
   "metadata": {
    "scrolled": true
   },
   "outputs": [
    {
     "data": {
      "text/plain": [
       "['Core i5',\n",
       " 'Core i3',\n",
       " 'Core i7',\n",
       " 'Ryzen 5',\n",
       " 'Ryzen 7',\n",
       " 'Ryzen 9',\n",
       " 'Ryzen 3',\n",
       " 'Celeron Dual',\n",
       " 'M1',\n",
       " 'Pentium Quad',\n",
       " 'Core i9']"
      ]
     },
     "execution_count": 16,
     "metadata": {},
     "output_type": "execute_result"
    }
   ],
   "source": [
    "# Lista manual com os processadores mais populares entre os notebooks e nomes corretos para filtragem \n",
    "processadores = ['Core i5','Core i3','Core i7','Ryzen 5','Ryzen 7',\n",
    "                 'Ryzen 9','Ryzen 3','Celeron Dual','M1','Pentium Quad','Core i9']\n",
    "processadores\n"
   ]
  },
  {
   "cell_type": "code",
   "execution_count": 17,
   "id": "f4b806de",
   "metadata": {
    "scrolled": true
   },
   "outputs": [
    {
     "data": {
      "text/plain": [
       "0      False\n",
       "1      False\n",
       "2      False\n",
       "3      False\n",
       "4      False\n",
       "       ...  \n",
       "891     True\n",
       "892     True\n",
       "893     True\n",
       "894    False\n",
       "895     True\n",
       "Name: nome_processador, Length: 896, dtype: bool"
      ]
     },
     "execution_count": 17,
     "metadata": {},
     "output_type": "execute_result"
    }
   ],
   "source": [
    "# Coluna verdadeiro x falso para filtragem de processadores \n",
    "filtro = df['nome_processador'].isin(processadores)\n",
    "filtro"
   ]
  },
  {
   "cell_type": "code",
   "execution_count": 18,
   "id": "50941421",
   "metadata": {},
   "outputs": [],
   "source": [
    "# Dados de processadores foram subtituidos \n",
    "df = df[filtro]\n"
   ]
  },
  {
   "cell_type": "code",
   "execution_count": 19,
   "id": "9c8a9e03",
   "metadata": {},
   "outputs": [
    {
     "data": {
      "text/plain": [
       "10    0\n",
       "11    0\n",
       "12    0\n",
       "13    2\n",
       "14    0\n",
       "Name: placa_de_video, dtype: object"
      ]
     },
     "execution_count": 19,
     "metadata": {},
     "output_type": "execute_result"
    }
   ],
   "source": [
    "df['placa_de_video'].head(5)"
   ]
  },
  {
   "cell_type": "code",
   "execution_count": 20,
   "id": "736123b0",
   "metadata": {},
   "outputs": [],
   "source": [
    "# Ajustando as informaçoes das placas de video para o formato padrão\n",
    "df['placa_de_video'].replace(0, 'video integrado', inplace=True)\n",
    "df['placa_de_video'].replace(2, '2 GB', inplace=True)\n",
    "df['placa_de_video'].replace(4, '4 GB', inplace=True)\n",
    "df['placa_de_video'].replace(6, '6 GB', inplace=True)\n",
    "df['placa_de_video'].replace(8, '8 GB', inplace=True)"
   ]
  },
  {
   "cell_type": "code",
   "execution_count": 21,
   "id": "4b043b11",
   "metadata": {
    "scrolled": true
   },
   "outputs": [
    {
     "data": {
      "text/plain": [
       "512 GB     416\n",
       "256 GB     193\n",
       "0 GB       128\n",
       "1024 GB    111\n",
       "128 GB       8\n",
       "2048 GB      2\n",
       "Name: ssd, dtype: int64"
      ]
     },
     "execution_count": 21,
     "metadata": {},
     "output_type": "execute_result"
    }
   ],
   "source": [
    "#Excluindo um outlaier da coluna ssd \n",
    "df = df.drop(df[df['ssd'] == '3072 GB'].index)\n",
    "df['ssd'].value_counts()\n"
   ]
  },
  {
   "cell_type": "code",
   "execution_count": 22,
   "id": "ac0d3d69",
   "metadata": {},
   "outputs": [
    {
     "data": {
      "text/plain": [
       "0 GB       652\n",
       "1024 GB    160\n",
       "512 GB      45\n",
       "2048 GB      1\n",
       "Name: hdd, dtype: int64"
      ]
     },
     "execution_count": 22,
     "metadata": {},
     "output_type": "execute_result"
    }
   ],
   "source": [
    "df['hdd'].value_counts()\n"
   ]
  },
  {
   "cell_type": "code",
   "execution_count": null,
   "id": "2c9eb129",
   "metadata": {},
   "outputs": [],
   "source": []
  },
  {
   "cell_type": "code",
   "execution_count": 23,
   "id": "405020b1",
   "metadata": {
    "scrolled": true
   },
   "outputs": [
    {
     "data": {
      "text/html": [
       "<div>\n",
       "<style scoped>\n",
       "    .dataframe tbody tr th:only-of-type {\n",
       "        vertical-align: middle;\n",
       "    }\n",
       "\n",
       "    .dataframe tbody tr th {\n",
       "        vertical-align: top;\n",
       "    }\n",
       "\n",
       "    .dataframe thead th {\n",
       "        text-align: right;\n",
       "    }\n",
       "</style>\n",
       "<table border=\"1\" class=\"dataframe\">\n",
       "  <thead>\n",
       "    <tr style=\"text-align: right;\">\n",
       "      <th></th>\n",
       "      <th>marca</th>\n",
       "      <th>modelo</th>\n",
       "      <th>marca_processador</th>\n",
       "      <th>nome_processador</th>\n",
       "      <th>geracao_processador</th>\n",
       "      <th>memoria</th>\n",
       "      <th>tipo_memoria</th>\n",
       "      <th>ssd</th>\n",
       "      <th>hdd</th>\n",
       "      <th>sistema_operacional</th>\n",
       "      <th>...</th>\n",
       "      <th>Touchscreen</th>\n",
       "      <th>msoffice</th>\n",
       "      <th>preco_atual</th>\n",
       "      <th>preco_anterior</th>\n",
       "      <th>desconto</th>\n",
       "      <th>notas_em_estrelas</th>\n",
       "      <th>qtd_avaliacoes</th>\n",
       "      <th>avaliacoes_unicas</th>\n",
       "      <th>preco_atual_real</th>\n",
       "      <th>preco_anterior_real</th>\n",
       "    </tr>\n",
       "  </thead>\n",
       "  <tbody>\n",
       "    <tr>\n",
       "      <th>463</th>\n",
       "      <td>Lenovo</td>\n",
       "      <td>B50-70</td>\n",
       "      <td>Intel</td>\n",
       "      <td>Core i5</td>\n",
       "      <td>4th</td>\n",
       "      <td>8GB</td>\n",
       "      <td>DDR3</td>\n",
       "      <td>0 GB</td>\n",
       "      <td>1024 GB</td>\n",
       "      <td>Windows</td>\n",
       "      <td>...</td>\n",
       "      <td>No</td>\n",
       "      <td>No</td>\n",
       "      <td>52490</td>\n",
       "      <td>0</td>\n",
       "      <td>0</td>\n",
       "      <td>3.8</td>\n",
       "      <td>78</td>\n",
       "      <td>17</td>\n",
       "      <td>3306.87</td>\n",
       "      <td>0.0</td>\n",
       "    </tr>\n",
       "  </tbody>\n",
       "</table>\n",
       "<p>1 rows × 25 columns</p>\n",
       "</div>"
      ],
      "text/plain": [
       "      marca  modelo marca_processador nome_processador geracao_processador  \\\n",
       "463  Lenovo  B50-70             Intel          Core i5                 4th   \n",
       "\n",
       "    memoria tipo_memoria   ssd      hdd sistema_operacional  ... Touchscreen  \\\n",
       "463     8GB         DDR3  0 GB  1024 GB             Windows  ...          No   \n",
       "\n",
       "    msoffice preco_atual preco_anterior  desconto notas_em_estrelas  \\\n",
       "463       No       52490              0         0               3.8   \n",
       "\n",
       "    qtd_avaliacoes  avaliacoes_unicas  preco_atual_real  preco_anterior_real  \n",
       "463             78                 17           3306.87                  0.0  \n",
       "\n",
       "[1 rows x 25 columns]"
      ]
     },
     "execution_count": 23,
     "metadata": {},
     "output_type": "execute_result"
    }
   ],
   "source": [
    "# Identificado o nootebook que nao tinha 'preco anterior real' com a 4th geração de processador\n",
    "resultados = df[df['geracao_processador'].str.contains('4th')]\n",
    "resultados"
   ]
  },
  {
   "cell_type": "code",
   "execution_count": 24,
   "id": "6a645cd8",
   "metadata": {},
   "outputs": [
    {
     "data": {
      "text/html": [
       "<div>\n",
       "<style scoped>\n",
       "    .dataframe tbody tr th:only-of-type {\n",
       "        vertical-align: middle;\n",
       "    }\n",
       "\n",
       "    .dataframe tbody tr th {\n",
       "        vertical-align: top;\n",
       "    }\n",
       "\n",
       "    .dataframe thead th {\n",
       "        text-align: right;\n",
       "    }\n",
       "</style>\n",
       "<table border=\"1\" class=\"dataframe\">\n",
       "  <thead>\n",
       "    <tr style=\"text-align: right;\">\n",
       "      <th></th>\n",
       "      <th>garantia</th>\n",
       "      <th>preco_atual</th>\n",
       "      <th>preco_anterior</th>\n",
       "      <th>desconto</th>\n",
       "      <th>notas_em_estrelas</th>\n",
       "      <th>qtd_avaliacoes</th>\n",
       "      <th>avaliacoes_unicas</th>\n",
       "      <th>preco_atual_real</th>\n",
       "      <th>preco_anterior_real</th>\n",
       "    </tr>\n",
       "  </thead>\n",
       "  <tbody>\n",
       "    <tr>\n",
       "      <th>count</th>\n",
       "      <td>805.000000</td>\n",
       "      <td>805.000000</td>\n",
       "      <td>805.000000</td>\n",
       "      <td>805.000000</td>\n",
       "      <td>805.000000</td>\n",
       "      <td>805.000000</td>\n",
       "      <td>805.000000</td>\n",
       "      <td>805.000000</td>\n",
       "      <td>805.000000</td>\n",
       "    </tr>\n",
       "    <tr>\n",
       "      <th>mean</th>\n",
       "      <td>0.714286</td>\n",
       "      <td>67794.889441</td>\n",
       "      <td>80747.819876</td>\n",
       "      <td>19.021118</td>\n",
       "      <td>3.001242</td>\n",
       "      <td>360.368944</td>\n",
       "      <td>44.688199</td>\n",
       "      <td>4271.078035</td>\n",
       "      <td>5087.112652</td>\n",
       "    </tr>\n",
       "    <tr>\n",
       "      <th>std</th>\n",
       "      <td>0.596722</td>\n",
       "      <td>28329.260013</td>\n",
       "      <td>38727.133737</td>\n",
       "      <td>10.375454</td>\n",
       "      <td>1.949543</td>\n",
       "      <td>1112.969503</td>\n",
       "      <td>135.216230</td>\n",
       "      <td>1784.743381</td>\n",
       "      <td>2439.809425</td>\n",
       "    </tr>\n",
       "    <tr>\n",
       "      <th>min</th>\n",
       "      <td>0.000000</td>\n",
       "      <td>13990.000000</td>\n",
       "      <td>0.000000</td>\n",
       "      <td>0.000000</td>\n",
       "      <td>0.000000</td>\n",
       "      <td>0.000000</td>\n",
       "      <td>0.000000</td>\n",
       "      <td>881.370000</td>\n",
       "      <td>0.000000</td>\n",
       "    </tr>\n",
       "    <tr>\n",
       "      <th>25%</th>\n",
       "      <td>0.000000</td>\n",
       "      <td>44990.000000</td>\n",
       "      <td>55534.000000</td>\n",
       "      <td>12.000000</td>\n",
       "      <td>0.000000</td>\n",
       "      <td>0.000000</td>\n",
       "      <td>0.000000</td>\n",
       "      <td>2834.370000</td>\n",
       "      <td>3498.642000</td>\n",
       "    </tr>\n",
       "    <tr>\n",
       "      <th>50%</th>\n",
       "      <td>1.000000</td>\n",
       "      <td>60990.000000</td>\n",
       "      <td>76090.000000</td>\n",
       "      <td>20.000000</td>\n",
       "      <td>4.100000</td>\n",
       "      <td>21.000000</td>\n",
       "      <td>3.000000</td>\n",
       "      <td>3842.370000</td>\n",
       "      <td>4793.670000</td>\n",
       "    </tr>\n",
       "    <tr>\n",
       "      <th>75%</th>\n",
       "      <td>1.000000</td>\n",
       "      <td>82990.000000</td>\n",
       "      <td>104990.000000</td>\n",
       "      <td>26.000000</td>\n",
       "      <td>4.400000</td>\n",
       "      <td>184.000000</td>\n",
       "      <td>24.000000</td>\n",
       "      <td>5228.370000</td>\n",
       "      <td>6614.370000</td>\n",
       "    </tr>\n",
       "    <tr>\n",
       "      <th>max</th>\n",
       "      <td>3.000000</td>\n",
       "      <td>155411.000000</td>\n",
       "      <td>189990.000000</td>\n",
       "      <td>57.000000</td>\n",
       "      <td>5.000000</td>\n",
       "      <td>15279.000000</td>\n",
       "      <td>1947.000000</td>\n",
       "      <td>9790.893000</td>\n",
       "      <td>11969.370000</td>\n",
       "    </tr>\n",
       "  </tbody>\n",
       "</table>\n",
       "</div>"
      ],
      "text/plain": [
       "         garantia    preco_atual  preco_anterior    desconto  \\\n",
       "count  805.000000     805.000000      805.000000  805.000000   \n",
       "mean     0.714286   67794.889441    80747.819876   19.021118   \n",
       "std      0.596722   28329.260013    38727.133737   10.375454   \n",
       "min      0.000000   13990.000000        0.000000    0.000000   \n",
       "25%      0.000000   44990.000000    55534.000000   12.000000   \n",
       "50%      1.000000   60990.000000    76090.000000   20.000000   \n",
       "75%      1.000000   82990.000000   104990.000000   26.000000   \n",
       "max      3.000000  155411.000000   189990.000000   57.000000   \n",
       "\n",
       "       notas_em_estrelas  qtd_avaliacoes  avaliacoes_unicas  preco_atual_real  \\\n",
       "count         805.000000      805.000000         805.000000        805.000000   \n",
       "mean            3.001242      360.368944          44.688199       4271.078035   \n",
       "std             1.949543     1112.969503         135.216230       1784.743381   \n",
       "min             0.000000        0.000000           0.000000        881.370000   \n",
       "25%             0.000000        0.000000           0.000000       2834.370000   \n",
       "50%             4.100000       21.000000           3.000000       3842.370000   \n",
       "75%             4.400000      184.000000          24.000000       5228.370000   \n",
       "max             5.000000    15279.000000        1947.000000       9790.893000   \n",
       "\n",
       "       preco_anterior_real  \n",
       "count           805.000000  \n",
       "mean           5087.112652  \n",
       "std            2439.809425  \n",
       "min               0.000000  \n",
       "25%            3498.642000  \n",
       "50%            4793.670000  \n",
       "75%            6614.370000  \n",
       "max           11969.370000  "
      ]
     },
     "execution_count": 24,
     "metadata": {},
     "output_type": "execute_result"
    }
   ],
   "source": [
    "# Esta célula foi criada após perceber durante o processo de análise que\n",
    "# aviam poucos notebooks de alta performance com valores muito acima da média \n",
    "# então foram excluídos para minimizar os outliers\n",
    "\n",
    "df = df.drop(df[df['preco_anterior_real'] >=12000 ].index)\n",
    "df = df.drop(df[df['preco_atual_real'] >=10000 ].index)\n",
    "df.describe()"
   ]
  },
  {
   "cell_type": "markdown",
   "id": "cbf70058",
   "metadata": {},
   "source": [
    "### Percepção do preço através de funcionalidades (Memória, Processador, armazenamento e Placa de video) "
   ]
  },
  {
   "cell_type": "markdown",
   "id": "b87bef11",
   "metadata": {},
   "source": [
    "#### Dados por tipo e capacidade de memória"
   ]
  },
  {
   "cell_type": "code",
   "execution_count": 25,
   "id": "744007fd",
   "metadata": {},
   "outputs": [
    {
     "data": {
      "text/plain": [
       "<AxesSubplot: xlabel='memoria'>"
      ]
     },
     "execution_count": 25,
     "metadata": {},
     "output_type": "execute_result"
    },
    {
     "data": {
      "image/png": "[encoded data removed]",
      "text/plain": [
       "<Figure size 640x480 with 1 Axes>"
      ]
     },
     "metadata": {},
     "output_type": "display_data"
    }
   ],
   "source": [
    "# Média preço por capacidade de memoria\n",
    "mem = df.groupby('memoria')\n",
    "mem[['tipo_memoria','preco_anterior_real']].mean().plot.bar()\n"
   ]
  },
  {
   "cell_type": "code",
   "execution_count": 26,
   "id": "cc419e8a",
   "metadata": {},
   "outputs": [
    {
     "data": {
      "text/html": [
       "<div>\n",
       "<style scoped>\n",
       "    .dataframe tbody tr th:only-of-type {\n",
       "        vertical-align: middle;\n",
       "    }\n",
       "\n",
       "    .dataframe tbody tr th {\n",
       "        vertical-align: top;\n",
       "    }\n",
       "\n",
       "    .dataframe thead th {\n",
       "        text-align: right;\n",
       "    }\n",
       "</style>\n",
       "<table border=\"1\" class=\"dataframe\">\n",
       "  <thead>\n",
       "    <tr style=\"text-align: right;\">\n",
       "      <th></th>\n",
       "      <th>preco_anterior_real</th>\n",
       "    </tr>\n",
       "    <tr>\n",
       "      <th>memoria</th>\n",
       "      <th></th>\n",
       "    </tr>\n",
       "  </thead>\n",
       "  <tbody>\n",
       "    <tr>\n",
       "      <th>16GB</th>\n",
       "      <td>7086.72</td>\n",
       "    </tr>\n",
       "    <tr>\n",
       "      <th>4GB</th>\n",
       "      <td>4217.71</td>\n",
       "    </tr>\n",
       "    <tr>\n",
       "      <th>8GB</th>\n",
       "      <td>4895.46</td>\n",
       "    </tr>\n",
       "  </tbody>\n",
       "</table>\n",
       "</div>"
      ],
      "text/plain": [
       "         preco_anterior_real\n",
       "memoria                     \n",
       "16GB                 7086.72\n",
       "4GB                  4217.71\n",
       "8GB                  4895.46"
      ]
     },
     "execution_count": 26,
     "metadata": {},
     "output_type": "execute_result"
    }
   ],
   "source": [
    "mem = df.groupby('memoria')\n",
    "mem[['tipo_memoria','preco_anterior_real']].mean().round(2)"
   ]
  },
  {
   "cell_type": "code",
   "execution_count": 27,
   "id": "4a397719",
   "metadata": {},
   "outputs": [
    {
     "data": {
      "text/plain": [
       "<AxesSubplot: xlabel='tipo_memoria'>"
      ]
     },
     "execution_count": 27,
     "metadata": {},
     "output_type": "execute_result"
    },
    {
     "data": {
      "image/png": "[encoded data removed]",
      "text/plain": [
       "<Figure size 640x480 with 1 Axes>"
      ]
     },
     "metadata": {},
     "output_type": "display_data"
    }
   ],
   "source": [
    "# Media de preco por modelo de memoria \n",
    "mem = df.groupby('tipo_memoria')\n",
    "mem[['tipo_memoria','preco_anterior_real']].mean().plot.bar()"
   ]
  },
  {
   "cell_type": "markdown",
   "id": "5f6116b0",
   "metadata": {},
   "source": [
    " Notebooks com memória DDR3 custam em média 11% a mais que os notebooks com memória DDR4. \n",
    " \n",
    " Notebook com memoria DDR4 custam em média 42% a menos que notebooks com memória DDR5"
   ]
  },
  {
   "cell_type": "code",
   "execution_count": 28,
   "id": "0616bd0f",
   "metadata": {},
   "outputs": [
    {
     "data": {
      "text/html": [
       "<div>\n",
       "<style scoped>\n",
       "    .dataframe tbody tr th:only-of-type {\n",
       "        vertical-align: middle;\n",
       "    }\n",
       "\n",
       "    .dataframe tbody tr th {\n",
       "        vertical-align: top;\n",
       "    }\n",
       "\n",
       "    .dataframe thead th {\n",
       "        text-align: right;\n",
       "    }\n",
       "</style>\n",
       "<table border=\"1\" class=\"dataframe\">\n",
       "  <thead>\n",
       "    <tr style=\"text-align: right;\">\n",
       "      <th></th>\n",
       "      <th>preco_anterior_real</th>\n",
       "    </tr>\n",
       "    <tr>\n",
       "      <th>tipo_memoria</th>\n",
       "      <th></th>\n",
       "    </tr>\n",
       "  </thead>\n",
       "  <tbody>\n",
       "    <tr>\n",
       "      <th>DDR3</th>\n",
       "      <td>5612.98</td>\n",
       "    </tr>\n",
       "    <tr>\n",
       "      <th>DDR4</th>\n",
       "      <td>5047.61</td>\n",
       "    </tr>\n",
       "    <tr>\n",
       "      <th>DDR5</th>\n",
       "      <td>8556.96</td>\n",
       "    </tr>\n",
       "  </tbody>\n",
       "</table>\n",
       "</div>"
      ],
      "text/plain": [
       "              preco_anterior_real\n",
       "tipo_memoria                     \n",
       "DDR3                      5612.98\n",
       "DDR4                      5047.61\n",
       "DDR5                      8556.96"
      ]
     },
     "execution_count": 28,
     "metadata": {},
     "output_type": "execute_result"
    }
   ],
   "source": [
    "# Media de preco por modelo de memoria \n",
    "mem = df.groupby('tipo_memoria')\n",
    "mem[['tipo_memoria','preco_anterior_real']].mean().round(2)"
   ]
  },
  {
   "cell_type": "code",
   "execution_count": 29,
   "id": "813e8a46",
   "metadata": {
    "scrolled": true
   },
   "outputs": [
    {
     "data": {
      "text/plain": [
       "<AxesSubplot: xlabel='memoria'>"
      ]
     },
     "execution_count": 29,
     "metadata": {},
     "output_type": "execute_result"
    },
    {
     "data": {
      "image/png": "[encoded data removed]",
      "text/plain": [
       "<Figure size 640x480 with 1 Axes>"
      ]
     },
     "metadata": {},
     "output_type": "display_data"
    }
   ],
   "source": [
    "# Media de preco por capacidade de memoria \n",
    "mem = df.groupby('memoria')\n",
    "mem[['memoria','preco_anterior_real']].mean().plot.bar()"
   ]
  },
  {
   "cell_type": "markdown",
   "id": "274ffcff",
   "metadata": {},
   "source": [
    " Notebooks com 4 GB de memória custam em média 14% a menos que os notebooks de 8GB.\n",
    "\n",
    "Notebooks com 8 GB de memória custam em média 31% a menos que os notebooks de 16GB.\n",
    "\n",
    "\n"
   ]
  },
  {
   "cell_type": "code",
   "execution_count": 30,
   "id": "b9760cdd",
   "metadata": {},
   "outputs": [
    {
     "data": {
      "text/plain": [
       "16GB         AxesSubplot(0.1,0.559091;0.363636x0.340909)\n",
       "4GB     AxesSubplot(0.536364,0.559091;0.363636x0.340909)\n",
       "8GB              AxesSubplot(0.1,0.15;0.363636x0.340909)\n",
       "dtype: object"
      ]
     },
     "execution_count": 30,
     "metadata": {},
     "output_type": "execute_result"
    },
    {
     "data": {
      "image/png": "[encoded data removed]",
      "text/plain": [
       "<Figure size 640x480 with 4 Axes>"
      ]
     },
     "metadata": {},
     "output_type": "display_data"
    }
   ],
   "source": [
    "# Análisando outliers e medias de preço por capacidade de memoria\n",
    "mem = df.groupby('memoria')\n",
    "mem[['memoria','preco_anterior_real','preco_atual_real']].boxplot()"
   ]
  },
  {
   "cell_type": "code",
   "execution_count": 31,
   "id": "91e5a48e",
   "metadata": {},
   "outputs": [
    {
     "data": {
      "text/html": [
       "<div>\n",
       "<style scoped>\n",
       "    .dataframe tbody tr th:only-of-type {\n",
       "        vertical-align: middle;\n",
       "    }\n",
       "\n",
       "    .dataframe tbody tr th {\n",
       "        vertical-align: top;\n",
       "    }\n",
       "\n",
       "    .dataframe thead th {\n",
       "        text-align: right;\n",
       "    }\n",
       "</style>\n",
       "<table border=\"1\" class=\"dataframe\">\n",
       "  <thead>\n",
       "    <tr style=\"text-align: right;\">\n",
       "      <th></th>\n",
       "      <th>preco_anterior_real</th>\n",
       "      <th>preco_atual_real</th>\n",
       "    </tr>\n",
       "    <tr>\n",
       "      <th>memoria</th>\n",
       "      <th></th>\n",
       "      <th></th>\n",
       "    </tr>\n",
       "  </thead>\n",
       "  <tbody>\n",
       "    <tr>\n",
       "      <th>16GB</th>\n",
       "      <td>7086.72</td>\n",
       "      <td>5976.37</td>\n",
       "    </tr>\n",
       "    <tr>\n",
       "      <th>4GB</th>\n",
       "      <td>4217.71</td>\n",
       "      <td>3581.18</td>\n",
       "    </tr>\n",
       "    <tr>\n",
       "      <th>8GB</th>\n",
       "      <td>4895.46</td>\n",
       "      <td>4081.27</td>\n",
       "    </tr>\n",
       "  </tbody>\n",
       "</table>\n",
       "</div>"
      ],
      "text/plain": [
       "         preco_anterior_real  preco_atual_real\n",
       "memoria                                       \n",
       "16GB                 7086.72           5976.37\n",
       "4GB                  4217.71           3581.18\n",
       "8GB                  4895.46           4081.27"
      ]
     },
     "execution_count": 31,
     "metadata": {},
     "output_type": "execute_result"
    }
   ],
   "source": [
    "# Media de preco por capacidade de memoria \n",
    "mem = df.groupby('memoria')\n",
    "mem[['memoria', 'preco_anterior_real', 'preco_atual_real']].mean().round(2)"
   ]
  },
  {
   "cell_type": "markdown",
   "id": "269bc41e",
   "metadata": {},
   "source": [
    "A remoção de notebooks de alta performance trouxe novos outliers, mas aparentemente são irrelevantes \n"
   ]
  },
  {
   "cell_type": "markdown",
   "id": "229c5c89",
   "metadata": {},
   "source": [
    "Os outliers do grupo de memória DDR4 se deve ao modelo de processador empregado \n",
    "e ao SSD de alta capacidade de armazenamento como podemos identificar abaixo "
   ]
  },
  {
   "cell_type": "code",
   "execution_count": 51,
   "id": "0686179e",
   "metadata": {
    "scrolled": true
   },
   "outputs": [
    {
     "data": {
      "text/html": [
       "<div>\n",
       "<style scoped>\n",
       "    .dataframe tbody tr th:only-of-type {\n",
       "        vertical-align: middle;\n",
       "    }\n",
       "\n",
       "    .dataframe tbody tr th {\n",
       "        vertical-align: top;\n",
       "    }\n",
       "\n",
       "    .dataframe thead th {\n",
       "        text-align: right;\n",
       "    }\n",
       "</style>\n",
       "<table border=\"1\" class=\"dataframe\">\n",
       "  <thead>\n",
       "    <tr style=\"text-align: right;\">\n",
       "      <th></th>\n",
       "      <th>marca</th>\n",
       "      <th>modelo</th>\n",
       "      <th>marca_processador</th>\n",
       "      <th>nome_processador</th>\n",
       "      <th>geracao_processador</th>\n",
       "      <th>memoria</th>\n",
       "      <th>tipo_memoria</th>\n",
       "      <th>ssd</th>\n",
       "      <th>hdd</th>\n",
       "      <th>sistema_operacional</th>\n",
       "      <th>...</th>\n",
       "      <th>Touchscreen</th>\n",
       "      <th>msoffice</th>\n",
       "      <th>preco_atual</th>\n",
       "      <th>preco_anterior</th>\n",
       "      <th>desconto</th>\n",
       "      <th>notas_em_estrelas</th>\n",
       "      <th>qtd_avaliacoes</th>\n",
       "      <th>avaliacoes_unicas</th>\n",
       "      <th>preco_atual_real</th>\n",
       "      <th>preco_anterior_real</th>\n",
       "    </tr>\n",
       "  </thead>\n",
       "  <tbody>\n",
       "    <tr>\n",
       "      <th>856</th>\n",
       "      <td>Lenovo</td>\n",
       "      <td>Legion</td>\n",
       "      <td>AMD</td>\n",
       "      <td>Ryzen 7</td>\n",
       "      <td>Missing</td>\n",
       "      <td>4GB</td>\n",
       "      <td>DDR4</td>\n",
       "      <td>1024 GB</td>\n",
       "      <td>0 GB</td>\n",
       "      <td>Windows</td>\n",
       "      <td>...</td>\n",
       "      <td>No</td>\n",
       "      <td>Yes</td>\n",
       "      <td>130990</td>\n",
       "      <td>181890</td>\n",
       "      <td>27</td>\n",
       "      <td>0.0</td>\n",
       "      <td>0</td>\n",
       "      <td>0</td>\n",
       "      <td>8252.37</td>\n",
       "      <td>11459.070</td>\n",
       "    </tr>\n",
       "    <tr>\n",
       "      <th>861</th>\n",
       "      <td>ASUS</td>\n",
       "      <td>ROG</td>\n",
       "      <td>AMD</td>\n",
       "      <td>Ryzen 7</td>\n",
       "      <td>Missing</td>\n",
       "      <td>4GB</td>\n",
       "      <td>DDR4</td>\n",
       "      <td>1024 GB</td>\n",
       "      <td>0 GB</td>\n",
       "      <td>Windows</td>\n",
       "      <td>...</td>\n",
       "      <td>Yes</td>\n",
       "      <td>No</td>\n",
       "      <td>99990</td>\n",
       "      <td>162990</td>\n",
       "      <td>38</td>\n",
       "      <td>4.4</td>\n",
       "      <td>77</td>\n",
       "      <td>15</td>\n",
       "      <td>6299.37</td>\n",
       "      <td>10268.370</td>\n",
       "    </tr>\n",
       "    <tr>\n",
       "      <th>874</th>\n",
       "      <td>MSI</td>\n",
       "      <td>Delta</td>\n",
       "      <td>AMD</td>\n",
       "      <td>Ryzen 9</td>\n",
       "      <td>Missing</td>\n",
       "      <td>4GB</td>\n",
       "      <td>DDR4</td>\n",
       "      <td>1024 GB</td>\n",
       "      <td>0 GB</td>\n",
       "      <td>Windows</td>\n",
       "      <td>...</td>\n",
       "      <td>No</td>\n",
       "      <td>No</td>\n",
       "      <td>146990</td>\n",
       "      <td>188990</td>\n",
       "      <td>22</td>\n",
       "      <td>0.0</td>\n",
       "      <td>0</td>\n",
       "      <td>0</td>\n",
       "      <td>9260.37</td>\n",
       "      <td>11906.370</td>\n",
       "    </tr>\n",
       "    <tr>\n",
       "      <th>876</th>\n",
       "      <td>ASUS</td>\n",
       "      <td>ROG</td>\n",
       "      <td>AMD</td>\n",
       "      <td>Ryzen 9</td>\n",
       "      <td>Missing</td>\n",
       "      <td>4GB</td>\n",
       "      <td>DDR4</td>\n",
       "      <td>1024 GB</td>\n",
       "      <td>0 GB</td>\n",
       "      <td>Windows</td>\n",
       "      <td>...</td>\n",
       "      <td>Yes</td>\n",
       "      <td>No</td>\n",
       "      <td>114990</td>\n",
       "      <td>181990</td>\n",
       "      <td>36</td>\n",
       "      <td>4.7</td>\n",
       "      <td>14</td>\n",
       "      <td>1</td>\n",
       "      <td>7244.37</td>\n",
       "      <td>11465.370</td>\n",
       "    </tr>\n",
       "    <tr>\n",
       "      <th>877</th>\n",
       "      <td>ASUS</td>\n",
       "      <td>ROG</td>\n",
       "      <td>AMD</td>\n",
       "      <td>Ryzen 9</td>\n",
       "      <td>Missing</td>\n",
       "      <td>4GB</td>\n",
       "      <td>DDR4</td>\n",
       "      <td>1024 GB</td>\n",
       "      <td>0 GB</td>\n",
       "      <td>Windows</td>\n",
       "      <td>...</td>\n",
       "      <td>Yes</td>\n",
       "      <td>Yes</td>\n",
       "      <td>124990</td>\n",
       "      <td>175990</td>\n",
       "      <td>28</td>\n",
       "      <td>5.0</td>\n",
       "      <td>3</td>\n",
       "      <td>0</td>\n",
       "      <td>7874.37</td>\n",
       "      <td>11087.370</td>\n",
       "    </tr>\n",
       "    <tr>\n",
       "      <th>878</th>\n",
       "      <td>ASUS</td>\n",
       "      <td>Zenbook</td>\n",
       "      <td>AMD</td>\n",
       "      <td>Ryzen 9</td>\n",
       "      <td>Missing</td>\n",
       "      <td>4GB</td>\n",
       "      <td>DDR4</td>\n",
       "      <td>1024 GB</td>\n",
       "      <td>0 GB</td>\n",
       "      <td>Windows</td>\n",
       "      <td>...</td>\n",
       "      <td>Yes</td>\n",
       "      <td>No</td>\n",
       "      <td>134990</td>\n",
       "      <td>170990</td>\n",
       "      <td>21</td>\n",
       "      <td>0.0</td>\n",
       "      <td>0</td>\n",
       "      <td>0</td>\n",
       "      <td>8504.37</td>\n",
       "      <td>10772.370</td>\n",
       "    </tr>\n",
       "    <tr>\n",
       "      <th>879</th>\n",
       "      <td>HP</td>\n",
       "      <td>OMEN</td>\n",
       "      <td>AMD</td>\n",
       "      <td>Ryzen 9</td>\n",
       "      <td>Missing</td>\n",
       "      <td>4GB</td>\n",
       "      <td>DDR4</td>\n",
       "      <td>1024 GB</td>\n",
       "      <td>0 GB</td>\n",
       "      <td>Windows</td>\n",
       "      <td>...</td>\n",
       "      <td>No</td>\n",
       "      <td>Yes</td>\n",
       "      <td>141990</td>\n",
       "      <td>163739</td>\n",
       "      <td>13</td>\n",
       "      <td>0.0</td>\n",
       "      <td>0</td>\n",
       "      <td>0</td>\n",
       "      <td>8945.37</td>\n",
       "      <td>10315.557</td>\n",
       "    </tr>\n",
       "    <tr>\n",
       "      <th>880</th>\n",
       "      <td>ASUS</td>\n",
       "      <td>Rog</td>\n",
       "      <td>AMD</td>\n",
       "      <td>Ryzen 9</td>\n",
       "      <td>Missing</td>\n",
       "      <td>4GB</td>\n",
       "      <td>DDR4</td>\n",
       "      <td>1024 GB</td>\n",
       "      <td>0 GB</td>\n",
       "      <td>Windows</td>\n",
       "      <td>...</td>\n",
       "      <td>No</td>\n",
       "      <td>No</td>\n",
       "      <td>129990</td>\n",
       "      <td>166990</td>\n",
       "      <td>22</td>\n",
       "      <td>0.0</td>\n",
       "      <td>0</td>\n",
       "      <td>0</td>\n",
       "      <td>8189.37</td>\n",
       "      <td>10520.370</td>\n",
       "    </tr>\n",
       "    <tr>\n",
       "      <th>884</th>\n",
       "      <td>ASUS</td>\n",
       "      <td>ROG</td>\n",
       "      <td>AMD</td>\n",
       "      <td>Ryzen 9</td>\n",
       "      <td>Missing</td>\n",
       "      <td>4GB</td>\n",
       "      <td>DDR4</td>\n",
       "      <td>1024 GB</td>\n",
       "      <td>0 GB</td>\n",
       "      <td>Windows</td>\n",
       "      <td>...</td>\n",
       "      <td>No</td>\n",
       "      <td>No</td>\n",
       "      <td>141990</td>\n",
       "      <td>189990</td>\n",
       "      <td>25</td>\n",
       "      <td>4.2</td>\n",
       "      <td>61</td>\n",
       "      <td>13</td>\n",
       "      <td>8945.37</td>\n",
       "      <td>11969.370</td>\n",
       "    </tr>\n",
       "    <tr>\n",
       "      <th>886</th>\n",
       "      <td>ASUS</td>\n",
       "      <td>VivoBook</td>\n",
       "      <td>AMD</td>\n",
       "      <td>Ryzen 9</td>\n",
       "      <td>Missing</td>\n",
       "      <td>4GB</td>\n",
       "      <td>DDR4</td>\n",
       "      <td>1024 GB</td>\n",
       "      <td>0 GB</td>\n",
       "      <td>Windows</td>\n",
       "      <td>...</td>\n",
       "      <td>No</td>\n",
       "      <td>No</td>\n",
       "      <td>130500</td>\n",
       "      <td>162990</td>\n",
       "      <td>19</td>\n",
       "      <td>0.0</td>\n",
       "      <td>0</td>\n",
       "      <td>0</td>\n",
       "      <td>8221.50</td>\n",
       "      <td>10268.370</td>\n",
       "    </tr>\n",
       "    <tr>\n",
       "      <th>890</th>\n",
       "      <td>ASUS</td>\n",
       "      <td>ROG</td>\n",
       "      <td>AMD</td>\n",
       "      <td>Ryzen 9</td>\n",
       "      <td>Missing</td>\n",
       "      <td>4GB</td>\n",
       "      <td>DDR4</td>\n",
       "      <td>1024 GB</td>\n",
       "      <td>0 GB</td>\n",
       "      <td>Windows</td>\n",
       "      <td>...</td>\n",
       "      <td>No</td>\n",
       "      <td>No</td>\n",
       "      <td>135990</td>\n",
       "      <td>172990</td>\n",
       "      <td>21</td>\n",
       "      <td>0.0</td>\n",
       "      <td>0</td>\n",
       "      <td>0</td>\n",
       "      <td>8567.37</td>\n",
       "      <td>10898.370</td>\n",
       "    </tr>\n",
       "  </tbody>\n",
       "</table>\n",
       "<p>11 rows × 25 columns</p>\n",
       "</div>"
      ],
      "text/plain": [
       "      marca    modelo marca_processador nome_processador geracao_processador  \\\n",
       "856  Lenovo    Legion               AMD          Ryzen 7             Missing   \n",
       "861    ASUS       ROG               AMD          Ryzen 7             Missing   \n",
       "874     MSI     Delta               AMD          Ryzen 9             Missing   \n",
       "876    ASUS       ROG               AMD          Ryzen 9             Missing   \n",
       "877    ASUS       ROG               AMD          Ryzen 9             Missing   \n",
       "878    ASUS   Zenbook               AMD          Ryzen 9             Missing   \n",
       "879      HP      OMEN               AMD          Ryzen 9             Missing   \n",
       "880    ASUS       Rog               AMD          Ryzen 9             Missing   \n",
       "884    ASUS       ROG               AMD          Ryzen 9             Missing   \n",
       "886    ASUS  VivoBook               AMD          Ryzen 9             Missing   \n",
       "890    ASUS       ROG               AMD          Ryzen 9             Missing   \n",
       "\n",
       "    memoria tipo_memoria      ssd   hdd sistema_operacional  ... Touchscreen  \\\n",
       "856     4GB         DDR4  1024 GB  0 GB             Windows  ...          No   \n",
       "861     4GB         DDR4  1024 GB  0 GB             Windows  ...         Yes   \n",
       "874     4GB         DDR4  1024 GB  0 GB             Windows  ...          No   \n",
       "876     4GB         DDR4  1024 GB  0 GB             Windows  ...         Yes   \n",
       "877     4GB         DDR4  1024 GB  0 GB             Windows  ...         Yes   \n",
       "878     4GB         DDR4  1024 GB  0 GB             Windows  ...         Yes   \n",
       "879     4GB         DDR4  1024 GB  0 GB             Windows  ...          No   \n",
       "880     4GB         DDR4  1024 GB  0 GB             Windows  ...          No   \n",
       "884     4GB         DDR4  1024 GB  0 GB             Windows  ...          No   \n",
       "886     4GB         DDR4  1024 GB  0 GB             Windows  ...          No   \n",
       "890     4GB         DDR4  1024 GB  0 GB             Windows  ...          No   \n",
       "\n",
       "    msoffice preco_atual preco_anterior  desconto notas_em_estrelas  \\\n",
       "856      Yes      130990         181890        27               0.0   \n",
       "861       No       99990         162990        38               4.4   \n",
       "874       No      146990         188990        22               0.0   \n",
       "876       No      114990         181990        36               4.7   \n",
       "877      Yes      124990         175990        28               5.0   \n",
       "878       No      134990         170990        21               0.0   \n",
       "879      Yes      141990         163739        13               0.0   \n",
       "880       No      129990         166990        22               0.0   \n",
       "884       No      141990         189990        25               4.2   \n",
       "886       No      130500         162990        19               0.0   \n",
       "890       No      135990         172990        21               0.0   \n",
       "\n",
       "    qtd_avaliacoes  avaliacoes_unicas  preco_atual_real  preco_anterior_real  \n",
       "856              0                  0           8252.37            11459.070  \n",
       "861             77                 15           6299.37            10268.370  \n",
       "874              0                  0           9260.37            11906.370  \n",
       "876             14                  1           7244.37            11465.370  \n",
       "877              3                  0           7874.37            11087.370  \n",
       "878              0                  0           8504.37            10772.370  \n",
       "879              0                  0           8945.37            10315.557  \n",
       "880              0                  0           8189.37            10520.370  \n",
       "884             61                 13           8945.37            11969.370  \n",
       "886              0                  0           8221.50            10268.370  \n",
       "890              0                  0           8567.37            10898.370  \n",
       "\n",
       "[11 rows x 25 columns]"
      ]
     },
     "execution_count": 51,
     "metadata": {},
     "output_type": "execute_result"
    }
   ],
   "source": [
    "\n",
    "memoria_outlier = (df['memoria'] == '4GB') & (df['preco_anterior_real'] >= 10000)\n",
    "linha = df.loc[memoria_outlier]\n",
    "linha.head(20)"
   ]
  },
  {
   "cell_type": "code",
   "execution_count": 33,
   "id": "9e713a51",
   "metadata": {},
   "outputs": [
    {
     "data": {
      "text/plain": [
       "<AxesSubplot: >"
      ]
     },
     "execution_count": 33,
     "metadata": {},
     "output_type": "execute_result"
    },
    {
     "data": {
      "image/png": "[encoded data removed]",
      "text/plain": [
       "<Figure size 640x480 with 1 Axes>"
      ]
     },
     "metadata": {},
     "output_type": "display_data"
    }
   ],
   "source": [
    "# Quantidade de notebooks pela capacidade de memoria \n",
    "df['memoria'].value_counts().plot.bar()"
   ]
  },
  {
   "cell_type": "code",
   "execution_count": 34,
   "id": "5272579e",
   "metadata": {
    "scrolled": true
   },
   "outputs": [
    {
     "data": {
      "text/plain": [
       "<AxesSubplot: >"
      ]
     },
     "execution_count": 34,
     "metadata": {},
     "output_type": "execute_result"
    },
    {
     "data": {
      "image/png": "[encoded data removed]",
      "text/plain": [
       "<Figure size 640x480 with 1 Axes>"
      ]
     },
     "metadata": {},
     "output_type": "display_data"
    }
   ],
   "source": [
    "# Quantidade de notebooks pelo tipo da memoria \n",
    "df['tipo_memoria'].value_counts().plot.bar()"
   ]
  },
  {
   "cell_type": "markdown",
   "id": "9562b885",
   "metadata": {},
   "source": [
    "Notebooks com memória DDR4 predominam entre os modelos. "
   ]
  },
  {
   "cell_type": "code",
   "execution_count": 35,
   "id": "2e939e6e",
   "metadata": {},
   "outputs": [
    {
     "data": {
      "text/plain": [
       "<AxesSubplot: >"
      ]
     },
     "execution_count": 35,
     "metadata": {},
     "output_type": "execute_result"
    },
    {
     "data": {
      "image/png": "[encoded data removed]",
      "text/plain": [
       "<Figure size 640x480 with 1 Axes>"
      ]
     },
     "metadata": {},
     "output_type": "display_data"
    }
   ],
   "source": [
    "# Procurando outliers \n",
    "df.boxplot(['preco_anterior_real', 'preco_atual_real'])"
   ]
  },
  {
   "cell_type": "markdown",
   "id": "0c4425c7",
   "metadata": {},
   "source": [
    "Aparentemente os valores estão corretos, os notebooks mais caros são de alta performance. Assim podemos chegar a conclusão que não ha valores incorretos, mas uma gama de notebooks abrangente. Notebooks com maior valor foram removidos no inicio da analise."
   ]
  },
  {
   "cell_type": "markdown",
   "id": "9d19dbe2",
   "metadata": {},
   "source": [
    "### Dados por processador"
   ]
  },
  {
   "cell_type": "code",
   "execution_count": 36,
   "id": "bcb77353",
   "metadata": {},
   "outputs": [
    {
     "data": {
      "text/plain": [
       "<AxesSubplot: >"
      ]
     },
     "execution_count": 36,
     "metadata": {},
     "output_type": "execute_result"
    },
    {
     "data": {
      "image/png": "[encoded data removed]",
      "text/plain": [
       "<Figure size 640x480 with 1 Axes>"
      ]
     },
     "metadata": {},
     "output_type": "display_data"
    }
   ],
   "source": [
    "# Quantidade de notebooks por modelo de processador \n",
    "df['nome_processador'].value_counts().plot.bar()"
   ]
  },
  {
   "cell_type": "code",
   "execution_count": 37,
   "id": "74e833fe",
   "metadata": {
    "scrolled": true
   },
   "outputs": [
    {
     "data": {
      "text/plain": [
       "<AxesSubplot: xlabel='nome_processador'>"
      ]
     },
     "execution_count": 37,
     "metadata": {},
     "output_type": "execute_result"
    },
    {
     "data": {
      "image/png": "[encoded data removed]",
      "text/plain": [
       "<Figure size 640x480 with 1 Axes>"
      ]
     },
     "metadata": {},
     "output_type": "display_data"
    }
   ],
   "source": [
    "# Media de preço por modelo do processador \n",
    "proc = df.groupby('nome_processador')\n",
    "proc[['nome_processador','preco_anterior_real']].mean().plot.bar()"
   ]
  },
  {
   "cell_type": "code",
   "execution_count": 38,
   "id": "3c9b7bef",
   "metadata": {},
   "outputs": [
    {
     "data": {
      "text/plain": [
       "<AxesSubplot: xlabel='nome_processador'>"
      ]
     },
     "execution_count": 38,
     "metadata": {},
     "output_type": "execute_result"
    },
    {
     "data": {
      "image/png": "[encoded data removed]",
      "text/plain": [
       "<Figure size 640x480 with 1 Axes>"
      ]
     },
     "metadata": {},
     "output_type": "display_data"
    }
   ],
   "source": [
    "# Media de preço por modelo do processador antes e depois do desconto\n",
    "proc = df.groupby('nome_processador')\n",
    "proc[['nome_processador','preco_anterior_real', 'preco_atual_real']].mean().round(2).plot.bar()"
   ]
  },
  {
   "cell_type": "markdown",
   "id": "f232f2d2",
   "metadata": {},
   "source": [
    "Processadores M1, Core i9 e Ryzen 9 lideram os topos de preço por serem processadores mais potentes."
   ]
  },
  {
   "cell_type": "markdown",
   "id": "32fab644",
   "metadata": {},
   "source": [
    "#### Geração de processadores"
   ]
  },
  {
   "cell_type": "code",
   "execution_count": 39,
   "id": "1a949a29",
   "metadata": {
    "scrolled": true
   },
   "outputs": [
    {
     "data": {
      "text/plain": [
       "<AxesSubplot: >"
      ]
     },
     "execution_count": 39,
     "metadata": {},
     "output_type": "execute_result"
    },
    {
     "data": {
      "image/png": "[encoded data removed]",
      "text/plain": [
       "<Figure size 640x480 with 1 Axes>"
      ]
     },
     "metadata": {},
     "output_type": "display_data"
    }
   ],
   "source": [
    "# Quantidade de notebooks por geração do processador \n",
    "df['geracao_processador'].value_counts().plot.bar()"
   ]
  },
  {
   "cell_type": "code",
   "execution_count": 59,
   "id": "fcbb404d",
   "metadata": {},
   "outputs": [
    {
     "data": {
      "text/plain": [
       "<AxesSubplot: xlabel='geracao_processador'>"
      ]
     },
     "execution_count": 59,
     "metadata": {},
     "output_type": "execute_result"
    },
    {
     "data": {
      "image/png": "[encoded data removed]",
      "text/plain": [
       "<Figure size 640x480 with 1 Axes>"
      ]
     },
     "metadata": {},
     "output_type": "display_data"
    }
   ],
   "source": [
    "# Media de preço por geração do processador antes e depois do desconto e ou promoção\n",
    "proc = df.groupby('geracao_processador')\n",
    "proc[['geracao_processador','preco_anterior_real', 'preco_atual_real']].mean().round(2).plot.bar()"
   ]
  },
  {
   "cell_type": "code",
   "execution_count": 40,
   "id": "00383845",
   "metadata": {},
   "outputs": [
    {
     "data": {
      "text/plain": [
       "marca                  222\n",
       "modelo                 222\n",
       "marca_processador      222\n",
       "nome_processador       222\n",
       "geracao_processador    222\n",
       "memoria                222\n",
       "tipo_memoria           222\n",
       "ssd                    222\n",
       "hdd                    222\n",
       "sistema_operacional    222\n",
       "versao_so              222\n",
       "placa_de_video         222\n",
       "peso                   222\n",
       "polegadas              222\n",
       "garantia               222\n",
       "Touchscreen            222\n",
       "msoffice               222\n",
       "preco_atual            222\n",
       "preco_anterior         222\n",
       "desconto               222\n",
       "notas_em_estrelas      222\n",
       "qtd_avaliacoes         222\n",
       "avaliacoes_unicas      222\n",
       "preco_atual_real       222\n",
       "preco_anterior_real    222\n",
       "dtype: int64"
      ]
     },
     "execution_count": 40,
     "metadata": {},
     "output_type": "execute_result"
    }
   ],
   "source": [
    "# Tendado identificar a quantidade e os processadores incluidos na coluna \"Missing\"\n",
    "ger = df[df['geracao_processador'] == 'Missing']\n",
    "ger.count()\n",
    "#.head(3)"
   ]
  },
  {
   "cell_type": "code",
   "execution_count": 57,
   "id": "84a2d251",
   "metadata": {},
   "outputs": [],
   "source": [
    "# Substituindo alguns valores \"Missing\" da coluna geração_do_processador\n",
    "# baseada na coluna nome_do_processador\n",
    "df['geracao_processador'] = pd.np.where(df['nome_processador'] == 'Ryzen 5', '4th', df['geracao_processador'])\n",
    "ger = df[df['geracao_processador'] == 'Missing']\n",
    "#ger.count()\n",
    "#ger.head(1)"
   ]
  },
  {
   "cell_type": "markdown",
   "id": "30b826dc",
   "metadata": {},
   "source": [
    " Mesmo alterando valores 'Missing' para '4th' onde os processadores eram \n",
    " 'Ryzen 5' o volume não identificado continua grande. Porem,\n",
    " Os valores até o momento imputados não possuem confiabilidade pois é necessário\n",
    " mais informaçoes dos processadores além de 'Nome' e 'Marca' para definir a geração.\n",
    " Portanto nao sera levado em consideração analises baseada na geração do processador"
   ]
  },
  {
   "cell_type": "markdown",
   "id": "dcf878b2",
   "metadata": {},
   "source": [
    "### Dados por marca"
   ]
  },
  {
   "cell_type": "code",
   "execution_count": 44,
   "id": "fe60e943",
   "metadata": {},
   "outputs": [
    {
     "data": {
      "text/plain": [
       "<AxesSubplot: xlabel='marca'>"
      ]
     },
     "execution_count": 44,
     "metadata": {},
     "output_type": "execute_result"
    },
    {
     "data": {
      "image/png": "[encoded data removed]",
      "text/plain": [
       "<Figure size 640x480 with 1 Axes>"
      ]
     },
     "metadata": {},
     "output_type": "display_data"
    }
   ],
   "source": [
    "# Grafico com preço médio por marca\n",
    "df.groupby(['marca']).preco_anterior_real.mean().sort_values().plot(kind='bar')"
   ]
  },
  {
   "cell_type": "code",
   "execution_count": 45,
   "id": "10f998c0",
   "metadata": {},
   "outputs": [
    {
     "data": {
      "text/plain": [
       "<AxesSubplot: xlabel='marca'>"
      ]
     },
     "execution_count": 45,
     "metadata": {},
     "output_type": "execute_result"
    },
    {
     "data": {
      "image/png": "[encoded data removed]",
      "text/plain": [
       "<Figure size 640x480 with 1 Axes>"
      ]
     },
     "metadata": {},
     "output_type": "display_data"
    }
   ],
   "source": [
    "# Media de preço por marca antes e depois do desconto \n",
    "proc = df.groupby('marca')\n",
    "proc[['geracao_processador','preco_anterior_real', 'preco_atual_real']].mean().round(2).plot.bar()"
   ]
  },
  {
   "cell_type": "code",
   "execution_count": null,
   "id": "0121147c",
   "metadata": {},
   "outputs": [],
   "source": []
  },
  {
   "cell_type": "markdown",
   "id": "8e6d9efe",
   "metadata": {},
   "source": [
    "### Dados por placa de video"
   ]
  },
  {
   "cell_type": "code",
   "execution_count": 60,
   "id": "421adb1a",
   "metadata": {},
   "outputs": [
    {
     "data": {
      "text/plain": [
       "<AxesSubplot: xlabel='placa_de_video'>"
      ]
     },
     "execution_count": 60,
     "metadata": {},
     "output_type": "execute_result"
    },
    {
     "data": {
      "image/png": "[encoded data removed]",
      "text/plain": [
       "<Figure size 640x480 with 1 Axes>"
      ]
     },
     "metadata": {},
     "output_type": "display_data"
    }
   ],
   "source": [
    "# Média de preço por placa de video\n",
    "proc = df.groupby('placa_de_video')\n",
    "proc[['placa_de_video','preco_anterior_real']].mean().plot.bar()"
   ]
  },
  {
   "cell_type": "markdown",
   "id": "2af95bdf",
   "metadata": {},
   "source": [
    "\n",
    "Notebooks sem placa de video custam em média R$4629.00. 1% a menos que notebooks com placas de video de 2GB\n",
    "(Neste caso fatores como modelo e capacidade de memória armazenamento e processador podem estar influenciado)\n",
    "\n",
    "Notebooks com placa de video de 4GB custam em média R$6583.00 29% a mais que notebooks com placas de video de 2GB\n",
    "\n",
    "Notebooks com placa de video de 6GB custam em média R$8650.00 24% a mais que notebooks com placas de video de 4GB\n",
    "\n",
    "Notebooks com placa de video de 8GB custam em média R$8815.00 2% a mais que notebooks com placas de video de 6GB \n"
   ]
  },
  {
   "cell_type": "code",
   "execution_count": 90,
   "id": "e1983b4d",
   "metadata": {},
   "outputs": [
    {
     "data": {
      "text/html": [
       "<div>\n",
       "<style scoped>\n",
       "    .dataframe tbody tr th:only-of-type {\n",
       "        vertical-align: middle;\n",
       "    }\n",
       "\n",
       "    .dataframe tbody tr th {\n",
       "        vertical-align: top;\n",
       "    }\n",
       "\n",
       "    .dataframe thead th {\n",
       "        text-align: right;\n",
       "    }\n",
       "</style>\n",
       "<table border=\"1\" class=\"dataframe\">\n",
       "  <thead>\n",
       "    <tr style=\"text-align: right;\">\n",
       "      <th></th>\n",
       "      <th>preco_anterior_real</th>\n",
       "      <th>preco_atual_real</th>\n",
       "    </tr>\n",
       "    <tr>\n",
       "      <th>placa_de_video</th>\n",
       "      <th></th>\n",
       "      <th></th>\n",
       "    </tr>\n",
       "  </thead>\n",
       "  <tbody>\n",
       "    <tr>\n",
       "      <th>2 GB</th>\n",
       "      <td>4671.75</td>\n",
       "      <td>4633.27</td>\n",
       "    </tr>\n",
       "    <tr>\n",
       "      <th>4 GB</th>\n",
       "      <td>6583.12</td>\n",
       "      <td>5248.25</td>\n",
       "    </tr>\n",
       "    <tr>\n",
       "      <th>6 GB</th>\n",
       "      <td>8650.79</td>\n",
       "      <td>7463.99</td>\n",
       "    </tr>\n",
       "    <tr>\n",
       "      <th>8 GB</th>\n",
       "      <td>8815.56</td>\n",
       "      <td>6724.62</td>\n",
       "    </tr>\n",
       "    <tr>\n",
       "      <th>video integrado</th>\n",
       "      <td>4629.19</td>\n",
       "      <td>3857.88</td>\n",
       "    </tr>\n",
       "  </tbody>\n",
       "</table>\n",
       "</div>"
      ],
      "text/plain": [
       "                 preco_anterior_real  preco_atual_real\n",
       "placa_de_video                                        \n",
       "2 GB                         4671.75           4633.27\n",
       "4 GB                         6583.12           5248.25\n",
       "6 GB                         8650.79           7463.99\n",
       "8 GB                         8815.56           6724.62\n",
       "video integrado              4629.19           3857.88"
      ]
     },
     "execution_count": 90,
     "metadata": {},
     "output_type": "execute_result"
    }
   ],
   "source": [
    "# Média de preço por placa de video\n",
    "pvideo = df.groupby('placa_de_video')\n",
    "pvideo[['placa_de_video','preco_anterior_real', 'preco_atual_real']].mean().round(2)"
   ]
  },
  {
   "cell_type": "code",
   "execution_count": 69,
   "id": "e745fe94",
   "metadata": {},
   "outputs": [
    {
     "data": {
      "text/plain": [
       "<AxesSubplot: >"
      ]
     },
     "execution_count": 69,
     "metadata": {},
     "output_type": "execute_result"
    },
    {
     "data": {
      "image/png": "[encoded data removed]",
      "text/plain": [
       "<Figure size 640x480 with 1 Axes>"
      ]
     },
     "metadata": {},
     "output_type": "display_data"
    }
   ],
   "source": [
    "# Quantidade de Notebooks por placa de video\n",
    "df['placa_de_video'].value_counts().plot.bar()"
   ]
  },
  {
   "cell_type": "code",
   "execution_count": 89,
   "id": "53968b31",
   "metadata": {
    "scrolled": true
   },
   "outputs": [
    {
     "data": {
      "text/plain": [
       "<AxesSubplot: >"
      ]
     },
     "execution_count": 89,
     "metadata": {},
     "output_type": "execute_result"
    },
    {
     "data": {
      "image/png": "[encoded data removed]",
      "text/plain": [
       "<Figure size 640x480 with 1 Axes>"
      ]
     },
     "metadata": {},
     "output_type": "display_data"
    }
   ],
   "source": [
    "# Boxplot notebooks sem placa de video (video integrado)\n",
    "video_integrado = df[df['placa_de_video'] == 'video integrado']\n",
    "video_integrado.boxplot(['preco_anterior_real', 'preco_atual_real'])"
   ]
  },
  {
   "cell_type": "markdown",
   "id": "529c4556",
   "metadata": {},
   "source": [
    "Alguns notebooks nao possuem valor na coluna \"preco_anterior_real\" apena \"preco_atual\" por \n",
    "isso o boxplot apresenta valor minimo em 0 "
   ]
  },
  {
   "cell_type": "code",
   "execution_count": 91,
   "id": "f20578e4",
   "metadata": {},
   "outputs": [
    {
     "data": {
      "text/plain": [
       "<AxesSubplot: >"
      ]
     },
     "execution_count": 91,
     "metadata": {},
     "output_type": "execute_result"
    },
    {
     "data": {
      "image/png": "[encoded data removed]",
      "text/plain": [
       "<Figure size 640x480 with 1 Axes>"
      ]
     },
     "metadata": {},
     "output_type": "display_data"
    }
   ],
   "source": [
    "# Boxplot notebooks placa de video 2 GB\n",
    "video_2GB = df[df['placa_de_video'] == '2 GB']\n",
    "video_2GB.boxplot(['preco_anterior_real', 'preco_atual_real'])"
   ]
  },
  {
   "cell_type": "markdown",
   "id": "0b2e448d",
   "metadata": {},
   "source": [
    "Alguns notebooks nao possuem valor na coluna \"preco_anterior_real\" apena \"preco_atual\" por \n",
    "isso o boxplot apresenta valor minimo em 0 "
   ]
  },
  {
   "cell_type": "code",
   "execution_count": 92,
   "id": "97586390",
   "metadata": {},
   "outputs": [
    {
     "data": {
      "text/plain": [
       "<AxesSubplot: >"
      ]
     },
     "execution_count": 92,
     "metadata": {},
     "output_type": "execute_result"
    },
    {
     "data": {
      "image/png": "[encoded data removed]",
      "text/plain": [
       "<Figure size 640x480 with 1 Axes>"
      ]
     },
     "metadata": {},
     "output_type": "display_data"
    }
   ],
   "source": [
    "# Boxplot notebooks placa de video 2 GB\n",
    "video_4GB = df[df['placa_de_video'] == '4 GB']\n",
    "video_4GB.boxplot(['preco_anterior_real', 'preco_atual_real'])"
   ]
  },
  {
   "cell_type": "code",
   "execution_count": null,
   "id": "541b55ee",
   "metadata": {},
   "outputs": [],
   "source": []
  }
 ],
 "metadata": {
  "kernelspec": {
   "display_name": "Python 3 (ipykernel)",
   "language": "python",
   "name": "python3"
  },
  "language_info": {
   "codemirror_mode": {
    "name": "ipython",
    "version": 3
   },
   "file_extension": ".py",
   "mimetype": "text/x-python",
   "name": "python",
   "nbconvert_exporter": "python",
   "pygments_lexer": "ipython3",
   "version": "3.9.16"
  },
  "widgets": {
   "application/vnd.jupyter.widget-state+json": {
    "state": {},
    "version_major": 2,
    "version_minor": 0
   }
  }
 },
 "nbformat": 4,
 "nbformat_minor": 5
}
